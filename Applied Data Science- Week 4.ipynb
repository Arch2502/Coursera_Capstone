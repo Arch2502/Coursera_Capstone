{
    "cells": [
        {
            "metadata": {},
            "cell_type": "markdown",
            "source": "# The Battle of Neighborhood - Week 4 (Part 1)\n\n"
        },
        {
            "metadata": {},
            "cell_type": "markdown",
            "source": "## Title:- Restaurant recommender system in Sydney\n"
        },
        {
            "metadata": {},
            "cell_type": "markdown",
            "source": "# Problem Background:\n"
        },
        {
            "metadata": {},
            "cell_type": "markdown",
            "source": "Sydney is the state capital of New South Wales and the most populous city in Australia. After World War II , it experienced mass migration and become one of the most multicultural cities in the world. \nSydney has a very diverse population with people migrating from different countries such as Britain, Greek, Lebanon, India , China, Korea etc. The diversity of the cuisine available is reflective of the social and economic diversity of Sydney."
        },
        {
            "metadata": {},
            "cell_type": "markdown",
            "source": "# Problem description :\n\n"
        },
        {
            "metadata": {},
            "cell_type": "markdown",
            "source": "Food is an integral part of any culture, when people migrate they carry their food and culture with them. Living in such multicultural place restaurant recommendation seems quite helpful. In such scenarios, we need to find the right place, at reasonable cost, to serve us the best possible way. So there are few questions that must be addressed, such as :\n1. How many types of foods are available in the restaurant ?\n2. Which is the most nearest to me with good rating ?\n3. How many \"similar\" restaurants are available near by me ?\n4. Do the \"similar\" restaurants cost more ? if so, what speciality do that have ?\n\nTo address such question, XXYZ company's manager decides to allocate this project to me not just to find out solutions to the questions but also build a system that can help in recommending new places based on their rankings compared to the previously visited by me.\nExpectations from this recommender system is to get answer for the questions, and in such a way that it uncovers all the perspective of managing recommendations. It is sighted to show :\n\n1. What types of restaurants are present in a particular area ?\n2. where are the similar restaurant present based on a preference to particular food ?\n3. How do different restaurants rank with respect to my preferences ?"
        },
        {
            "metadata": {},
            "cell_type": "markdown",
            "source": "# Target audience :\n"
        },
        {
            "metadata": {},
            "cell_type": "markdown",
            "source": "Target audiences for this project does not limit to a person who loves to try food from their own place but everyone. People could simply decide to look for a similar restaurant all the time because they are addicted to a specific category of food. People who rarely use restaurants would prefer to have the most rated restaurants nearby them and all this could be easily handed by our recommender system. So target for this project is basically everyone who is exploring different places or similar places."
        },
        {
            "metadata": {},
            "cell_type": "markdown",
            "source": "# Success rate :\n"
        },
        {
            "metadata": {},
            "cell_type": "markdown",
            "source": ""
        }
    ],
    "metadata": {
        "kernelspec": {
            "name": "python3",
            "display_name": "Python 3.6",
            "language": "python"
        },
        "language_info": {
            "name": "python",
            "version": "3.6.9",
            "mimetype": "text/x-python",
            "codemirror_mode": {
                "name": "ipython",
                "version": 3
            },
            "pygments_lexer": "ipython3",
            "nbconvert_exporter": "python",
            "file_extension": ".py"
        }
    },
    "nbformat": 4,
    "nbformat_minor": 1
}