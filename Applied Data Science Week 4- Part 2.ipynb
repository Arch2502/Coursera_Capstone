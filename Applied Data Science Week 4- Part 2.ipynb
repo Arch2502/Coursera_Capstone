{
    "cells": [
        {
            "metadata": {
                "collapsed": true
            },
            "cell_type": "markdown",
            "source": "# The battle of Neighborhood- Week 4 (Part 2)"
        },
        {
            "metadata": {},
            "cell_type": "markdown",
            "source": "## Title: Restaurant Recommender System in Sydney"
        },
        {
            "metadata": {},
            "cell_type": "markdown",
            "source": "## Data Requirement:"
        },
        {
            "metadata": {},
            "cell_type": "markdown",
            "source": "\nTo find a solution to the questions and build a recommender model, we need data and lots of data. Data can answer question which are unimaginable and non answerable by humans because humans do not have the tendency to analyse such large dataset and produce analtics to find a solutions.\n\nLet's consider the base scenario :\n\nSuppose i want to find a restaurant, then logically, i need 3 things :\n\n1)Its geographical coordinates(latitide and longitude) to find our where exactly it is located.\n2)Population of the neighborhood where the restaurant is located.\n3)Average income of neighborhood to know how much is the restaurant worth.\n\nLets take a closer look at each of these :\n\n1)To access location of a restaurant, its Latitude and Longitude is to be known so that we can point at its coordinates and create a map displaying all the restaurants with its labels respectively.\n\n2)Population of a neighborhood is very important factor in determining a restaurant's growth and amount of customers who turn up to eat. Logically, the more the population of a neighborhood, the more people will be interested to walk openly into a restaurant and less the population, less number of people frequently visit a restaurant. Also if more people visit, better the restaurant is rated because it is accessed by different people with different taste. Hence is is very important factor.\n\n3)Income of a neighborhood is also very important factor as population was. Income is directly proportional to richness of a neighborhood. If people in a neighborhood earns more than an average income, then it is very much possible that they will spend more however not always true with very less probability. So an restaurant accessment is proportional to income of a neighborhood."
        },
        {
            "metadata": {},
            "cell_type": "markdown",
            "source": "## Data Collection:"
        },
        {
            "metadata": {},
            "cell_type": "markdown",
            "source":[
            "Collecting geographical coordinates is not difficult but after googling for few days, it was not available on open source data websites such as wikipedia, census report websites etc. Hence I created my own dataset, where I selected all the suburbs in Sydney city and googled their latitude and longitude. Here is the link of the website from where I got the suburbs data :https://www.cityofsydney.nsw.gov.au/learn/research-and-statistics/the-city-at-a-glance  The Data frame looks like:\n",
            "\n",
            "<img src=\"Images\/Complete_df.png\">"
         ]
        },
        {
            "metadata": {},
            "cell_type": "markdown",
            "source": "Population by neighborhood is again easy to find out given that its readily available. This link https://www.cityofsydney.nsw.gov.au/learn/research-and-statistics/the-city-at-a-glance has population data for all the suburbs in Sydney. The dataframe for Sydney neighborhood population looks like:\n",
            "attachments": {}
        },
        {
            "metadata": {},
            "cell_type": "markdown",
            "source": "Income by neighborhood is again easy to find out given that its readily available. This link https://www.cityofsydney.nsw.gov.au/learn/research-and-statistics/the-city-at-a-glance has income data for all the suburbs in Sydney.This is the average income per week for the households in each of the suburb. The dataframe for Sydney neighborhood population looks like:\n\n",
            "attachments": {}
        },
        {
            "metadata": {},
            "cell_type": "markdown",
            "source": "FourSquare API :\nUse of foursquare is focused to fetch nearest venue locations so that we can use them to form a cluster. Foursquare api leverages the power of finding nearest venues in a radius(in my case : 500mts) and also corresponding coordinates,venue location and names. After calling, the following dataframe is created:\n",
            "attachments": {}
        },
        {
            "metadata": {},
            "cell_type": "markdown",
            "source": "The following map is produced by marking all the niehgborhoods in bangalore city.\n",
            "attachments": {}
        },
        {
            "metadata": {},
            "cell_type": "code",
            "source": "",
            "execution_count": null,
            "outputs": []
        }
    ],
    "metadata": {
        "kernelspec": {
            "name": "python3",
            "display_name": "Python 3.6",
            "language": "python"
        },
        "language_info": {
            "name": "python",
            "version": "3.6.9",
            "mimetype": "text/x-python",
            "codemirror_mode": {
                "name": "ipython",
                "version": 3
            },
            "pygments_lexer": "ipython3",
            "nbconvert_exporter": "python",
            "file_extension": ".py"
        }
    },
    "nbformat": 4,
    "nbformat_minor": 1
}